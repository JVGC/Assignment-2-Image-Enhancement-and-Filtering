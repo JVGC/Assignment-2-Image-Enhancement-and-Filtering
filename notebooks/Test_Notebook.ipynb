{
 "cells": [
  {
   "cell_type": "code",
   "execution_count": 94,
   "metadata": {},
   "outputs": [],
   "source": [
    "import numpy as np\n",
    "import imageio"
   ]
  },
  {
   "cell_type": "code",
   "execution_count": 95,
   "metadata": {},
   "outputs": [
    {
     "name": "stdout",
     "output_type": "stream",
     "text": [
      "camera.png\n",
      "1\n",
      "0\n"
     ]
    }
   ],
   "source": [
    "filename = str(input()).rstrip() # Caso1: camera.png\n",
    "method = int(input()) # Caso1: 1\n",
    "save = int(input()) # Caso1:  0"
   ]
  },
  {
   "cell_type": "code",
   "execution_count": 107,
   "metadata": {},
   "outputs": [],
   "source": [
    "input_img = imageio.imread('../images/'+filename)"
   ]
  },
  {
   "cell_type": "code",
   "execution_count": 108,
   "metadata": {},
   "outputs": [],
   "source": [
    "nrows, ncols =  input_img.shape\n",
    "input_img =  np.concatenate((input_img, np.zeros([1, ncols])), axis=0)\n",
    "input_img =  np.concatenate((np.zeros([1, ncols]), input_img), axis=0)\n",
    "input_img =  np.concatenate((np.zeros([nrows+2, 1]), input_img), axis=1)\n",
    "input_img =  np.concatenate(( input_img, np.zeros([nrows+2, 1])), axis=1)"
   ]
  },
  {
   "cell_type": "code",
   "execution_count": 109,
   "metadata": {},
   "outputs": [
    {
     "name": "stdout",
     "output_type": "stream",
     "text": [
      "3\n",
      "150\n",
      "100\n"
     ]
    }
   ],
   "source": [
    "# CASOS DE TESTE 1 e 2\n",
    "\n",
    "if method == 1:\n",
    "    n = int(input()) # Caso1: 3\n",
    "    sigma_s = float(input()) # Caso1: 150\n",
    "    sigma_r = float(input()) # Caso1: 100\n",
    "    output_img = bilateral_filter(input_img, n, sigma_s, sigma_r)"
   ]
  },
  {
   "cell_type": "code",
   "execution_count": 6,
   "metadata": {},
   "outputs": [],
   "source": [
    "def gaussian_kernel(x, sigma):\n",
    "    return (1/(2*np.pi*(sigma**2)))*np.exp((-x**2)/(2*(sigma**2)))"
   ]
  },
  {
   "cell_type": "code",
   "execution_count": 26,
   "metadata": {},
   "outputs": [],
   "source": [
    "# STEP 1: Computing the spatial Gaussian component:\n",
    "\n",
    "def spatial_gaussian_component(n, sigma):\n",
    "    w = np.zeros([n, n])\n",
    "    a = int((n-1)/2) # caso de 3x3 -> a=1\n",
    "    for x in range(n):\n",
    "        for y in range (n):\n",
    "            euclidian = np.sqrt((x-a)**2+ (y-a)**2)\n",
    "            w[x,y] =  gaussian_kernel(euclidian, sigma)\n",
    "            \n",
    "    return w"
   ]
  },
  {
   "cell_type": "code",
   "execution_count": 93,
   "metadata": {},
   "outputs": [],
   "source": [
    "def bilateral_filter(input_img, kernel_size, sigma_s, sigma_r):\n",
    "\n",
    "    a = int((n-1)/2)\n",
    "    output_img = np.zeros(input_img.shape, dtype=np.uint8)\n",
    "    nrows, ncols = input_img.shape\n",
    "\n",
    "    for x in range (a, nrows-a):\n",
    "        for y in range (a, ncols-a):\n",
    "            Wp = 0\n",
    "            If = 0\n",
    "            # gets subimage\n",
    "            sub_img = input_img[ x-a : x+a+1 , y-a:y+a+1 ]\n",
    "            ## Calculando o range gaussian para todos os neighbors do pixel (x,y)\n",
    "            range_gaussian = gaussian_kernel(sub_img - input_img[x,y], sigma_r)\n",
    "            ## Calulando o spatial component\n",
    "            spatial_gaussian = spatial_gaussian_component(n, sigma_s)\n",
    "            ## Valor total do filtro\n",
    "            w = np.multiply(range_gaussian, spatial_gaussian)\n",
    "            Wp = np.sum(w)\n",
    "            If = np.sum(np.multiply(w, sub_img))\n",
    "            output_img[x,y] =  If/Wp\n",
    "    return output_img"
   ]
  },
  {
   "cell_type": "code",
   "execution_count": 110,
   "metadata": {},
   "outputs": [
    {
     "name": "stdout",
     "output_type": "stream",
     "text": [
      "3429.3613\n"
     ]
    }
   ],
   "source": [
    "#ERRO \n",
    "## Result caso 1: 3429.3622\n",
    "rse = np.sqrt(np.sum((input_img.astype(float) - output_img.astype(float))**2))\n",
    "\n",
    "# Printing the error rounding to 4 decimal places.\n",
    "print('{:.4f}'.format(rse))"
   ]
  }
 ],
 "metadata": {
  "kernelspec": {
   "display_name": "Python 3",
   "language": "python",
   "name": "python3"
  },
  "language_info": {
   "codemirror_mode": {
    "name": "ipython",
    "version": 3
   },
   "file_extension": ".py",
   "mimetype": "text/x-python",
   "name": "python",
   "nbconvert_exporter": "python",
   "pygments_lexer": "ipython3",
   "version": "3.6.9"
  }
 },
 "nbformat": 4,
 "nbformat_minor": 2
}
